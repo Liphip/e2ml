{
 "cells": [
  {
   "cell_type": "markdown",
   "metadata": {
    "id": "DN0bwKsgEdRN"
   },
   "source": [
    "# Exercise 6: Classical Design of Experiments II"
   ]
  },
  {
   "cell_type": "markdown",
   "metadata": {
    "id": "GA8qYyecSvu9"
   },
   "source": [
    "#### 1) For which kind of experiments it is recommended to include statistical techniques and why?\n",
    "\n",
    "BEGIN SOLUTION\n",
    "\n",
    "It is recommended if the experiments are not numerical simulations, unless it is entended to asses the influence the noise factors will have in operations, as it is done in MORDO analysis.\n",
    "\n",
    "END SOLUTION"
   ]
  },
  {
   "cell_type": "markdown",
   "metadata": {
    "id": "tyaTEcsYS2bg"
   },
   "source": [
    "#### 2) HowTo perform a DOE, describe the important steps.\n",
    "\n",
    "BEGIN SOLUTION\n",
    "\n",
    "- choose the variables (factors): values are restricted and in general small, they are qualitative discret or quanitative discrete (if quantitative continuous, then the variables must be discretizrd within their value range)\n",
    "- define design space/region of interest (range of variablility for each variable). It can be adjusted later on after gaining more knowledge about it.\n",
    "-select DOE method and the number of levels (number of different values a variable can assume according to its discretisation). Ask yourself, if number of levels remains the same or differs for ech variable. \n",
    "\n",
    "END SOLUTION"
   ]
  },
  {
   "cell_type": "markdown",
   "metadata": {
    "id": "2Xxxy_mOW7Z3"
   },
   "source": [
    "#### 3) In the lecture we learned about three kinds of DOE in general: a) Factorial Designs, b) Response-Surface Designs, c) Randomizes Designs. What do these techniques have in common, and how do they differ. \n",
    "\n",
    "BEGIN SOLUTION\n",
    "\n",
    "a) The primary purpose of the experiment is to select or screen out the few\n",
    "important main effects from the many less important ones.\n",
    "These factoral designs are also called screening or termed main effects designs.\n",
    "\n",
    "b) The experiment is designed to allow us to estimate interaction and even quadratic\n",
    "effects, and therefore give us an idea of the (local) shape of the response surface\n",
    "we are investigating. For this reason, they are termed response surface method (RSM)\n",
    "designs. RSM designs are used to:\n",
    "\n",
    "    - Find improved or optimal process settings\n",
    "    - Troubleshoot process problems and weak points\n",
    "    - Make a product or process more robust against external\n",
    "      and non-controllable influences. \"Robust\" means relatively\n",
    "      insensitive to these influences.\n",
    "\n",
    "c) If you have one or several factors under investigation, but the primary goal of\n",
    "your experiment is to make a conclusion about one a-priori important factor,\n",
    "(in the presence of, and/or in spite of the existence of the other factors),\n",
    "and the question of interest is whether or not that factor is \"significant\",\n",
    "(i.e., whether or not there is a significant change in the response for different\n",
    "levels of that factor), then you have a comparative problem and you need a\n",
    "comparative design solution, where the randomized designs fall in.\n",
    "\n",
    "\n",
    "\n",
    "END SOLUTION\n"
   ]
  },
  {
   "cell_type": "markdown",
   "metadata": {
    "id": "gX1JZdbXXpCX"
   },
   "source": [
    "#### 4) Implement the following DOEs: a) Full Factorial, b) Box-Behnken and 3) Latin-Hypercube in the files (_full_factorial, _box_behnken, _latin_hypercube) in the folder e2ml/experimentation. Then import them here into this notebook."
   ]
  },
  {
   "cell_type": "code",
   "execution_count": 1,
   "metadata": {
    "pycharm": {
     "name": "#%%\n"
    }
   },
   "outputs": [],
   "source": [
    "# BEGIN SOLUTION\n",
    "from e2ml.experimentation._full_factorial import full_fac\n",
    "from e2ml.experimentation._box_behnken import box_behnken\n",
    "from e2ml.experimentation._latin_hypercube import lat_hyp_cube\n",
    "# END SOLUTION"
   ]
  },
  {
   "cell_type": "markdown",
   "metadata": {
    "id": "2T9kbjv884MO",
    "pycharm": {
     "name": "#%% md\n"
    }
   },
   "source": [
    "#### 5) Import the blackboxes foo1, foo2, foo3, generate a design matrix via DOEs a), b), c) from task 4 above, i.e., input your values and do some visualized analysis on the results."
   ]
  },
  {
   "cell_type": "code",
   "execution_count": 3,
   "metadata": {
    "pycharm": {
     "name": "#%%\n"
    }
   },
   "outputs": [],
   "source": [
    "from e2ml.experimentation._data_generator import foo1, foo2, foo3  # <-- SOLUTION\n",
    "\n",
    "def generate_data(foo, DOE, levels=None):\n",
    "    \"\"\"\n",
    "    Method for generating data of process foo with DOE.\n",
    "\n",
    "    Parameters\n",
    "    --------------\n",
    "    foo: function handle with input size n\n",
    "    DOE: specifying the DOE\n",
    "    depending on your DOE you have optional levels or factors\n",
    "    levels : array-like An array of integers that indicate the number of levels of each input design factor.\n",
    "    n : number of factors\n",
    "\n",
    "    Output\n",
    "    -------------\n",
    "    1000 datapoints generated by process foo evaluated at the entries of levels\n",
    "    \"\"\"\n",
    "    if DOE == full_fac:  # <-- SOLUTION\n",
    "        mat = DOE(levels) # <-- SOLUTION\n",
    "    else:  # <-- SOLUTION\n",
    "        n = len(levels)\n",
    "        mat = DOE(n) # <-- SOLUTION\n",
    "    return foo(*[mat[:,i] for i in range(mat.shape[1])]) # <-- SOLUTION\n",
    "\n",
    "# define useful levels\n",
    "levels1 = [10, 10, 10, 10, 10, 10]  # <-- SOLUTION\n",
    "levels2 = [10, 10, 10 , 10]  # <-- SOLUTION\n",
    "levels3 = [20, 10]  # <-- SOLUTION\n",
    "\n",
    "# design matrices:\n",
    "mat_full_fac_foo1 = generate_data(foo1, full_fac, levels1)  # <-- SOLUTION\n",
    "mat_full_fac_foo2 = generate_data(foo2, full_fac, levels2)  # <-- SOLUTION\n",
    "mat_full_fac_foo3 = generate_data(foo3, full_fac, levels3)  # <-- SOLUTION\n",
    "\n",
    "\n",
    "mat_box_behnken_foo1 = generate_data(foo1, box_behnken, levels1)  # <-- SOLUTION\n",
    "mat_box_behnken_foo2 = generate_data(foo2, box_behnken, levels2)  # <-- SOLUTION\n",
    "\n",
    "mat_lat_hyp_cube_foo1 = generate_data(foo1, lat_hyp_cube, levels1)  # <-- SOLUTION\n",
    "mat_lat_hyp_cube_foo2 = generate_data(foo2, lat_hyp_cube, levels2)  # <-- SOLUTION\n",
    "mat_lat_hyp_cube_foo3 = generate_data(foo3, lat_hyp_cube, levels3)  # <-- SOLUTION\n",
    "\n"
   ]
  },
  {
   "cell_type": "markdown",
   "metadata": {},
   "source": [
    "6) Use the PCA from the exercises before to visualize the different designs of experiments in 2D.¶"
   ]
  },
  {
   "cell_type": "code",
   "execution_count": 7,
   "metadata": {},
   "outputs": [],
   "source": [
    "import numpy as np\n",
    "y = generate_data(foo1, full_fac, levels1)\n",
    "X = full_fac(levels1)"
   ]
  },
  {
   "cell_type": "code",
   "execution_count": 5,
   "metadata": {},
   "outputs": [
    {
     "data": {
      "text/plain": [
       "1.0"
      ]
     },
     "execution_count": 5,
     "metadata": {},
     "output_type": "execute_result"
    }
   ],
   "source": [
    "from sklearn.gaussian_process import GaussianProcessClassifier\n",
    "gp = GaussianProcessClassifier().fit(X, y)\n",
    "gp.score(X, y)"
   ]
  },
  {
   "cell_type": "code",
   "execution_count": 8,
   "metadata": {},
   "outputs": [
    {
     "data": {
      "text/plain": [
       "<matplotlib.collections.PathCollection at 0x7f7d51768cd0>"
      ]
     },
     "execution_count": 8,
     "metadata": {},
     "output_type": "execute_result"
    },
    {
     "data": {
      "image/png": "[encoded data removed]",
      "text/plain": [
       "<Figure size 432x288 with 1 Axes>"
      ]
     },
     "metadata": {
      "needs_background": "light"
     },
     "output_type": "display_data"
    }
   ],
   "source": [
    "from matplotlib import pyplot as plt\n",
    "plt.scatter(X[:, 0], X[:, 1], c=y)"
   ]
  },
  {
   "cell_type": "code",
   "execution_count": null,
   "metadata": {},
   "outputs": [],
   "source": []
  }
 ],
 "metadata": {
  "colab": {
   "collapsed_sections": [],
   "name": "Exercise6_E2ML.ipynb",
   "provenance": []
  },
  "kernelspec": {
   "display_name": "Python 3 (ipykernel)",
   "language": "python",
   "name": "python3"
  },
  "language_info": {
   "codemirror_mode": {
    "name": "ipython",
    "version": 3
   },
   "file_extension": ".py",
   "mimetype": "text/x-python",
   "name": "python",
   "nbconvert_exporter": "python",
   "pygments_lexer": "ipython3",
   "version": "3.9.7"
  }
 },
 "nbformat": 4,
 "nbformat_minor": 4
}
