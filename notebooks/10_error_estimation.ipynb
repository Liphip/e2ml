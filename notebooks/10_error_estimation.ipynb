{
 "cells": [
  {
   "cell_type": "markdown",
   "id": "1c70fa63-b796-4b94-b670-0e98bb66a5a1",
   "metadata": {},
   "source": [
    "# Error Estimation\n",
    "\n",
    "In this notebook, we will implement and test **error estimation approaches** for evaluating classifiers and/or learning algorithms.\n",
    "\n",
    "At the start, we will implement the $k$-fold cross-validation with and without stratification.\n",
    "\n",
    "Subsequently, we will use the nested $k$-fold cross-validation on an exemplary dataset to perform model selection.\n",
    "\n",
    "### **Table of Contents**\n",
    "1. [$k$-fold Cross-alidation](#k-fold-cross-validation)\n",
    "2. [Model Selection](#model-selection)"
   ]
  },
  {
   "cell_type": "code",
   "execution_count": null,
   "id": "3cbb5690-6d49-42df-bf4b-db120f76c893",
   "metadata": {},
   "outputs": [],
   "source": [
    "%load_ext autoreload\n",
    "%autoreload 2\n",
    "\n",
    "import matplotlib.pyplot as plt\n",
    "import numpy as np"
   ]
  },
  {
   "cell_type": "markdown",
   "id": "8aee2541",
   "metadata": {},
   "source": [
    "### **1. $k$-fold Cross-validation** <a class=\"anchor\" id=\"k-fold-cross-validation\"></a>\n",
    "\n",
    "We implement the function [`cross_validation`](../e2ml/evaluation/_error_estimation.py) in the [`e2ml.evaluation`](../e2ml/evaluation) subpackage. Once, the implementation has been completed, we visualize and compare the standard and stratified cross-validation."
   ]
  },
  {
   "cell_type": "code",
   "execution_count": null,
   "id": "089c5c9b",
   "metadata": {},
   "outputs": [],
   "source": [
    "from e2ml.evaluation import cross_validation\n",
    "# Generate articial class labels.\n",
    "y = np.zeros(100)\n",
    "sample_indices = np.arange(len(y), dtype=int)\n",
    "y[30:90] = 1\n",
    "y[90:] = 2\n",
    "\n",
    "# Visualize standard (k=3)-fold cross validation via a bar plot showing the\n",
    "# class distribution within each fold.\n",
    "# TODO\n",
    "    \n",
    "# Visualize stratified (k=3)-fold cross validation via a bar plot showing the class\n",
    "# distribution within each fold.\n",
    "# TODO\n"
   ]
  },
  {
   "cell_type": "markdown",
   "id": "725e4210",
   "metadata": {},
   "source": [
    "### **2. Model Selection** <a class=\"anchor\" id=\"model-selection\"></a>\n",
    "\n",
    "In the follwing, we perform a small evaluation study including a model selection. Our goal is to compare the learning algorithm of a [*support vector classifier*](https://scikit-learn.org/stable/modules/generated/sklearn.svm.SVC.html#sklearn.svm.SVC) (SVC) and a [*multi-layer perceptron*](https://scikit-learn.org/stable/modules/generated/sklearn.neural_network.MLPClassifier.html#sklearn.neural_network.MLPClassifier) (MLP) on the data set [*breast cancer*](https://scikit-learn.org/stable/modules/generated/sklearn.datasets.load_breast_cancer.html#sklearn.datasets.load_breast_cancer). We generate in each run 20 hyperparameter configurations according to one of the popular experimentation methods. Studied hyperparamters are the regularization parameter $C \\in (0, 1000)$ (`C`) and the so-called bandwidth $\\gamma \\in (0, 1]$ (`gamma`) for the SVC, while the learning rate $\\eta \\in (0, 1]$ (`learning_rate_init`) and another regularization parameter $\\alpha \\in (0, 1)$ (`alpha`) are studied for the MLP. Further, we use a nested stratified $k=5$-folded cross-valdiation as error-estimation approach. The zero-one loss serves as performance measure to report the emprical mean and standard deviation of the risk estimates."
   ]
  },
  {
   "cell_type": "code",
   "execution_count": null,
   "id": "74e73d1f",
   "metadata": {},
   "outputs": [],
   "source": [
    "from sklearn.svm import SVC\n",
    "from sklearn.neural_network import MLPClassifier\n",
    "from sklearn.datasets import load_breast_cancer\n",
    "\n",
    "# Load breast cancer data set.\n",
    "X, y = load_breast_cancer(return_X_y=True)\n",
    "\n",
    "# Perform evaluation study.\n",
    "# TODO\n"
   ]
  }
 ],
 "metadata": {
  "kernelspec": {
   "display_name": "Python 3 (ipykernel)",
   "language": "python",
   "name": "python3"
  },
  "language_info": {
   "codemirror_mode": {
    "name": "ipython",
    "version": 3
   },
   "file_extension": ".py",
   "mimetype": "text/x-python",
   "name": "python",
   "nbconvert_exporter": "python",
   "pygments_lexer": "ipython3",
   "version": "3.9.6"
  }
 },
 "nbformat": 4,
 "nbformat_minor": 5
}
