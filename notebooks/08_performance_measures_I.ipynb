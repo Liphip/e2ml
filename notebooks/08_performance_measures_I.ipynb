{
 "cells": [
  {
   "attachments": {},
   "cell_type": "markdown",
   "id": "28e83585",
   "metadata": {
    "tags": []
   },
   "source": [
    "# Performance Measures  I\n",
    "\n",
    "In this notebook, we will implement **performance measures** for evaluating and comparing classifiers in machine learning. \n",
    "\n",
    "At the start, we will implement a function for computing *confusion matrices*.\n",
    "\n",
    "It serves as a basis for computing the subsequent performance measures with a multi- or single-class focus.\n",
    "\n",
    "Finally, we will compare the implemented performance measures using a simple exemplary classification task.\n",
    "\n",
    "### **Table of Contents**\n",
    "1. [Confusion Matrix](#confusion-matrix)\n",
    "2. [Performances Measures with a Multi-class Focus](#multi-class)\n",
    "3. [Performance Measures with a Single-class Focus](#single-class)\n",
    "4. [Comparison of Performance Measures](#comparison)"
   ]
  },
  {
   "cell_type": "code",
   "execution_count": 5,
   "id": "92f42ef1",
   "metadata": {},
   "outputs": [
    {
     "name": "stdout",
     "output_type": "stream",
     "text": [
      "The autoreload extension is already loaded. To reload it, use:\n",
      "  %reload_ext autoreload\n"
     ]
    }
   ],
   "source": [
    "%load_ext autoreload\n",
    "%autoreload 2\n",
    "\n",
    "import numpy as np\n",
    "import matplotlib.pyplot as plt"
   ]
  },
  {
   "attachments": {},
   "cell_type": "markdown",
   "id": "b6486326",
   "metadata": {},
   "source": [
    "### **1. Confusion Matrix** <a class=\"anchor\" id=\"confusion-matrix\"></a>\n",
    "\n",
    "The confusion matrix $\\mathbf{C}_\\mathcal{T}(h) \\in \\mathbb{N}^{|\\mathcal{Y}| \\times |\\mathcal{Y}|}$ is a table or matrix that is commonly used to evaluate the performance of a\n",
    "classifier $h: \\mathcal{X} \\rightarrow \\mathcal{Y}$. It summarizes the predictions made by the classifier $h$ on a test set $\\mathcal{T} \\subset \\mathcal{X} \\times \\mathcal{Y}$. The (unormalized) entries of the confusion matrix are defined as:\n",
    "\n",
    "TODO\n",
    "\n",
    "There exist other variants of a confusion matrix, where the entries of the confusion matrix are normalized row-wise, column-wise, or by the total sum of entries. We implement the function [`confusion_matrix`](../e2ml/evaluation/_performance_measures.py) in the [`e2ml.evaluation`](../e2ml/evaluation) subpackage.\n",
    "Once, the implementation has been completed, we check its validity for simple examples. "
   ]
  },
  {
   "cell_type": "code",
   "execution_count": 22,
   "id": "3abc4a9d",
   "metadata": {},
   "outputs": [],
   "source": [
    "from e2ml.evaluation import confusion_matrix\n",
    "\n",
    "# Check ranges of class labels.\n",
    "y_1 = [0, -1, 2]\n",
    "y_2 = [0, 1, 2]\n",
    "check = False\n",
    "try:\n",
    "    confusion_matrix(y_true=y_1, y_pred=y_2)\n",
    "except ValueError:\n",
    "    check = True\n",
    "assert check, 'There must be a ValueError because of invalid values.'\n",
    "check = False\n",
    "try:\n",
    "    confusion_matrix(y_true=y_2, y_pred=y_1)\n",
    "except ValueError:\n",
    "    check = True\n",
    "assert check, 'There must be a ValueError because of invalid values.'\n",
    "\n",
    "# Check type of class labels.\n",
    "y_1 = [\"hello\", \"new\", \"test\"]\n",
    "y_2 = [0, 1, 2]\n",
    "check = False\n",
    "try:\n",
    "    confusion_matrix(y_true=y_1, y_pred=y_2)\n",
    "except ValueError:\n",
    "    check = True\n",
    "assert check, 'There must be a TypeError because of invalid value types.'\n",
    "check = False\n",
    "try:\n",
    "    confusion_matrix(y_true=y_2, y_pred=y_1)\n",
    "except ValueError:\n",
    "    check = True\n",
    "assert check, 'There must be a TypeError because of invalid value types.'\n",
    "\n",
    "# Check unequal array lengths.\n",
    "y_1 = [0, -1, 2, 3]\n",
    "y_2 = [0, 1, 2]\n",
    "check = False\n",
    "try:\n",
    "    confusion_matrix(y_true=y_1, y_pred=y_2)\n",
    "except ValueError:\n",
    "    check = True\n",
    "assert check, 'There must be a ValueError because of unqueal array lengths.'\n",
    "check = False\n",
    "try:\n",
    "    confusion_matrix(y_true=y_2, y_pred=y_1)\n",
    "except ValueError:\n",
    "    check = True\n",
    "assert check, 'There must be a ValueError because of unqueal array lengths.'\n",
    "\n",
    "\n",
    "# Test correct computation for various simple examples.\n",
    "y_true = [1,1,0,0,1]\n",
    "y_pred = [1,0,1,0,1]\n",
    "C_true = np.array([[1,1],[1,2]])\n",
    "C = confusion_matrix(y_true=y_true, y_pred=y_pred)\n",
    "assert np.all(C == C_true), 'The confusion matrix is not correct.'\n",
    "\n",
    "y_true = [1,1,0,1]\n",
    "y_pred = [1,0,1,0]\n",
    "C_true = np.array([[0,1],[2,1]])\n",
    "C = confusion_matrix(y_true=y_true, y_pred=y_pred)\n",
    "assert np.all(C == C_true), 'The confusion matrix is not correct.'"
   ]
  },
  {
   "attachments": {},
   "cell_type": "markdown",
   "id": "c45055cc",
   "metadata": {},
   "source": [
    "### **2. Performance Measures with a Multi-class Focus** <a class=\"anchor\" id=\"multi-class\"></a>\n",
    "\n",
    "The accuracy $\\mathrm{ACC}_\\mathcal{T}(h) \\in [0, 1]$ of a classifier $h$ on a test set $\\mathcal{T}$ is one of the most know performance measures and can be computed  as the complement of the empirical risk $R_\\mathcal{T}(h)$ or using the confusion matrix $\\mathbf{C}_{\\mathcal{T}}(h)$ as follows:\n",
    "\n",
    "TODO\n",
    "\n",
    "We implement the function [`accuracy`](../e2ml/evaluation/_performance_measures.py) in the [`e2ml.evaluation`](../e2ml/evaluation) subpackage.\n",
    "Once, the implementation has been completed, we check its validity for simple examples. "
   ]
  },
  {
   "cell_type": "code",
   "execution_count": 29,
   "id": "449b0fe2",
   "metadata": {},
   "outputs": [],
   "source": [
    "from e2ml.evaluation import accuracy\n",
    "\n",
    "# Check unequal array lengths.\n",
    "y_1 = [0, -1, 2, 3]\n",
    "y_2 = [0, 1, 2]\n",
    "check = False\n",
    "try:\n",
    "    print(accuracy(y_true=y_1, y_pred=y_2))\n",
    "except ValueError:\n",
    "    check = True\n",
    "assert check, 'There must be a ValueError because of unqueal array lengths.'\n",
    "check = False\n",
    "try:\n",
    "    accuracy(y_true=y_2, y_pred=y_1)\n",
    "except ValueError:\n",
    "    check = True\n",
    "assert check, 'There must be a ValueError because of unqueal array lengths.'\n",
    "\n",
    "\n",
    "# Test correct computation for various simple examples.\n",
    "y_true = [1,1,0,0,1]\n",
    "y_pred = [1,0,1,0,1]\n",
    "acc_true = 0.6\n",
    "acc = accuracy(y_true=y_true, y_pred=y_pred)\n",
    "assert acc == acc_true, 'The accuracy is not correct.'\n",
    "\n",
    "y_true = [1,1,0,0]\n",
    "y_pred = [1,0,1,0]\n",
    "acc_true = 0.5\n",
    "acc = accuracy(y_true=y_true, y_pred=y_pred)\n",
    "assert acc == acc_true, 'The accuracy is not correct.'"
   ]
  },
  {
   "attachments": {},
   "cell_type": "markdown",
   "id": "a8ceed79",
   "metadata": {},
   "source": [
    "#### **Question:**\n",
    "2. (a) What are limitations of the accuracy as performance measure?\n",
    "\n",
    "   TODO\n",
    "\n",
    "Cohen’s $\\kappa$ represents a more realistic estimate of classifier effectiveness, which is the proportion of labels that the classifier gets right over and above chance agreement. We can compute this performance measure according to:\n",
    "\n",
    "TODO\n",
    "\n",
    "We implement the function [`cohen_kappa_score`](../e2ml/evaluation/_performance_measures.py) in the [`e2ml.evaluation`](../e2ml/evaluation) subpackage. Once, the implementation has been completed, we check its validity for simple examples. "
   ]
  },
  {
   "cell_type": "code",
   "execution_count": 38,
   "id": "d9fd1d8c",
   "metadata": {},
   "outputs": [],
   "source": [
    "from e2ml.evaluation import cohen_kappa\n",
    "\n",
    "# Test correct computation for various simple examples.\n",
    "y_true = [1,1,0,0,1]\n",
    "y_pred = [1,0,1,0,1]\n",
    "kappa_true = 0.16\n",
    "kappa = cohen_kappa(y_true=y_true, y_pred=y_pred)\n",
    "assert np.isclose(kappa, kappa_true, atol=0.01), f'The Cohen kappa is not correct. {kappa} != {kappa_true}'\n",
    "\n",
    "y_true = [1,1,0,0]\n",
    "y_pred = [1,0,1,0]\n",
    "kappa_true = 0.0\n",
    "kappa = cohen_kappa(y_true=y_true, y_pred=y_pred)\n",
    "assert kappa == kappa_true, f'The Cohen kappa is not correct. {kappa} != {kappa_true}'"
   ]
  },
  {
   "attachments": {},
   "cell_type": "markdown",
   "id": "ffd40eb9",
   "metadata": {},
   "source": [
    "### **3. Performance Measures with a Single-class Focus** <a class=\"anchor\" id=\"single-class\"></a>\n",
    "\n",
    "The F measure combines precision and recall in a score by computing the weighted harmonic mean of both. For any $\\alpha \\in \\mathbb{R}_{>0}$, the F measure can be given as:\n",
    "\n",
    "TODO\n",
    "\n",
    "The F1 measure or balance F measure weights the recall and precision of the classifier evenly via $\\alpha=1$. The macro F1 measure is an extension toward multi-class problems. Its idea is to compute the F1 score for each class and then taking the arithmetic mean of these scores.\n",
    "\n",
    "We implement the function [`macro_f1_measure`](../e2ml/evaluation/_performance_metrics.py) in the [`e2ml.evaluation`](../e2ml/evaluation) subpackage. Once, the implementation has been completed, we check its validity for simple examples. "
   ]
  },
  {
   "cell_type": "code",
   "execution_count": 42,
   "id": "b9554ab0",
   "metadata": {},
   "outputs": [],
   "source": [
    "from e2ml.evaluation import macro_f1_measure\n",
    "\n",
    "# Test correct computation for various simple examples.\n",
    "y_true = [1,1,0,0,1]\n",
    "y_pred = [1,0,1,0,1]\n",
    "f1_true = 0.58\n",
    "f1 = macro_f1_measure(y_true=y_true, y_pred=y_pred)\n",
    "assert np.isclose(f1, f1_true, atol=0.01), f'The macro F1 measure is not correct: {f1} != {f1_true}'\n",
    "\n",
    "y_true = [1,1,0,0]\n",
    "y_pred = [1,0,1,0]\n",
    "f1_true = 0.5\n",
    "f1 = macro_f1_measure(y_true=y_true, y_pred=y_pred)\n",
    "assert f1 == f1_true, f'The macro F1 measure is not correct. {f1} != {f1_true}'"
   ]
  },
  {
   "attachments": {},
   "cell_type": "markdown",
   "id": "076e6833",
   "metadata": {},
   "source": [
    "### **4. Comparison of Performance Measures** <a class=\"anchor\" id=\"comparison\"></a>\n",
    "In the following, we perform an exemplary evaluation study to compare the performance measures accuracy, Cohen's kappa, and macro F1. Therefore, we fit a logistic regression model on a synthetic data set and compute the corresponding measures."
   ]
  },
  {
   "cell_type": "code",
   "execution_count": 54,
   "id": "f3ec47e4",
   "metadata": {},
   "outputs": [
    {
     "data": {
      "image/png": "[encoded data removed]",
      "text/plain": [
       "<Figure size 640x480 with 1 Axes>"
      ]
     },
     "metadata": {},
     "output_type": "display_data"
    },
    {
     "name": "stdout",
     "output_type": "stream",
     "text": [
      "train accuracy: 0.97\n",
      "train Cohen kappa: 0.89\n",
      "train macro F1 measure: 0.91\n",
      "\n",
      "test accuracy: 0.99\n",
      "test Cohen kappa: 0.94\n",
      "test macro F1 measure: 0.97\n",
      "\n"
     ]
    }
   ],
   "source": [
    "from sklearn.datasets import make_blobs\n",
    "from sklearn.linear_model import LogisticRegression\n",
    "\n",
    "# Generate classification dataset.\n",
    "X, y = make_blobs(n_samples=[20, 50, 400], random_state=0)\n",
    "\n",
    "# Visualize the dataset.\n",
    "plt.scatter(X[:, 0], X[:, 1], c=y, cmap='rainbow')\n",
    "plt.show()\n",
    "\n",
    "# Split the dataset into 80% training data and 20% test data.\n",
    "train = np.random.choice([True, False], size=len(y), p=[0.8, 0.2])\n",
    "test = ~train\n",
    "\n",
    "# Fit a logistic regression model on the training data.\n",
    "lr = LogisticRegression(max_iter=2000, random_state=0) # <- SOLUTION\n",
    "lr.fit(X[train], y[train]) # <- SOLUTION\n",
    "\n",
    "# Evaluate and print the three performance measures on the training and test set.\n",
    "for name, data in zip(['train', 'test'], [train, test]):\n",
    "    y_true = y[data]\n",
    "    y_pred = lr.predict(X[data])\n",
    "    print(f'{name} accuracy: {accuracy(y_true, y_pred):.2f}')\n",
    "    print(f'{name} Cohen kappa: {cohen_kappa(y_true, y_pred):.2f}')\n",
    "    print(f'{name} macro F1 measure: {macro_f1_measure(y_true, y_pred):.2f}')\n",
    "    print()"
   ]
  },
  {
   "cell_type": "code",
   "execution_count": 55,
   "metadata": {},
   "outputs": [
    {
     "data": {
      "application/vnd.jupyter.widget-view+json": {
       "model_id": "070293c4bd364173b3f7f28a0057713d",
       "version_major": 2,
       "version_minor": 0
      },
      "text/plain": [
       "interactive(children=(IntSlider(value=0, description='random_state'), Output()), _dom_classes=('widget-interac…"
      ]
     },
     "execution_count": 55,
     "metadata": {},
     "output_type": "execute_result"
    }
   ],
   "source": [
    "from ipywidgets import interactive, FloatSlider, IntSlider, Dropdown, Button\n",
    "\n",
    "\n",
    "def intr_comparison(random_state):\n",
    "    # Generate classification dataset.\n",
    "    X, y = make_blobs(n_samples=[20, 50, 400], random_state=0)\n",
    "\n",
    "    # Split the dataset into 80% training data and 20% test data.\n",
    "    train = np.random.choice([True, False], size=len(y), p=[0.8, 0.2])\n",
    "    test = ~train\n",
    "\n",
    "    # Fit a logistic regression model on the training data.\n",
    "    lr = LogisticRegression(max_iter=2000, random_state=0)  # <- SOLUTION\n",
    "    lr.fit(X[train], y[train])  # <- SOLUTION\n",
    "\n",
    "    sub_title = \"\"\n",
    "\n",
    "    # Evaluate and add to subtitle the three performance measures on the training and test set.\n",
    "    for name, data in zip([\"train\", \"test\"], [train, test]):\n",
    "        y_true = y[data]\n",
    "        y_pred = lr.predict(X[data])\n",
    "        sub_title += f\"{name} accuracy: {accuracy(y_true, y_pred):.2f}\\n\"\n",
    "        sub_title += f\"{name} Cohen kappa: {cohen_kappa(y_true, y_pred):.2f}\\n\"\n",
    "        sub_title += (\n",
    "            f\"{name} macro F1 measure: {macro_f1_measure(y_true, y_pred):.2f}\\n\\n\"\n",
    "        )\n",
    "\n",
    "    # Visualize the dataset.\n",
    "    plt.scatter(X[:, 0], X[:, 1], c=y, cmap=\"rainbow\")\n",
    "    plt.title(f\"Random state: {random_state}\")\n",
    "    plt.xlabel(\"Feature 1\")\n",
    "    plt.ylabel(\"Feature 2\")\n",
    "    plt.text(\n",
    "        0.95,\n",
    "        0.05,\n",
    "        sub_title,\n",
    "        horizontalalignment=\"right\",\n",
    "        verticalalignment=\"bottom\",\n",
    "        transform=plt.gca().transAxes,\n",
    "    )\n",
    "\n",
    "    # show lr\n",
    "    x_min, x_max = plt.xlim()\n",
    "    y_min, y_max = plt.ylim()\n",
    "    xx, yy = np.meshgrid(\n",
    "        np.linspace(x_min, x_max, 100), np.linspace(y_min, y_max, 100)\n",
    "    )\n",
    "    Z = lr.predict_proba(np.c_[xx.ravel(), yy.ravel()])[:, 1]\n",
    "    Z = Z.reshape(xx.shape)\n",
    "    \n",
    "    plt.contour(xx, yy, Z, levels=[0.5], colors=\"black\")\n",
    "    plt.legend()\n",
    "    plt.show()\n",
    "\n",
    "\n",
    "interactive(intr_comparison, random_state=IntSlider(min=0, max=100, step=1, value=0))"
   ]
  }
 ],
 "metadata": {
  "kernelspec": {
   "display_name": "Python 3 (ipykernel)",
   "language": "python",
   "name": "python3"
  },
  "language_info": {
   "codemirror_mode": {
    "name": "ipython",
    "version": 3
   },
   "file_extension": ".py",
   "mimetype": "text/x-python",
   "name": "python",
   "nbconvert_exporter": "python",
   "pygments_lexer": "ipython3",
   "version": "3.9.16"
  }
 },
 "nbformat": 4,
 "nbformat_minor": 5
}
