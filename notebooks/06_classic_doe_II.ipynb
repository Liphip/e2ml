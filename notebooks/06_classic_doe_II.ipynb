{
 "cells": [
  {
   "cell_type": "markdown",
   "metadata": {},
   "source": [
    "# Classic Design of Experiments II"
   ]
  },
  {
   "cell_type": "markdown",
   "metadata": {},
   "source": [
    "In this notebook, we will learn about classic design of experiments (DoE) techniques.\n",
    "\n",
    "We start with implementing a full factorial approach, learn about the Halton sequence, implement the Latin hypercube, and end with a comparison of space filling techniques.\n",
    "\n",
    "### **Table of Contents**\n",
    "1. [Full Factorial](#full-factorial)\n",
    "2. [Halton Sequence](#haltonsequence)\n",
    "3. [Latin Hypercube](#latin-hypercube)\n",
    "4. [Comparison of Space Filling Techniques](#spacefilling-techniques)"
   ]
  },
  {
   "cell_type": "code",
   "execution_count": null,
   "metadata": {},
   "outputs": [],
   "source": [
    "%load_ext autoreload\n",
    "%autoreload 2\n",
    "\n",
    "import numpy as np\n",
    "import matplotlib.pyplot as plt"
   ]
  },
  {
   "cell_type": "markdown",
   "metadata": {},
   "source": [
    "### **1. Full Factorial** <a class=\"anchor\" id=\"full-factorial\"></a>\n",
    "\n",
    "In this section, we implement the full factorial DoE technique. \n",
    "\n",
    "As a prerequisite, it is important to understand the general steps of designing an experiment, which are:\n",
    "\n",
    "TODO\n",
    "    \n",
    "\n",
    "We implement the full factorial DoE technique [`full_fac`](../e2ml/experimentation/_full_factorial.py) in the [`e2ml.experimentation`](../e2ml/experimentation) subpackage. "
   ]
  },
  {
   "cell_type": "markdown",
   "metadata": {},
   "source": [
    "#### Question:\n",
    "1. (a) What is the number of conditions for a full factorial design with levels [4, 5, 10] ? Verify it using your code.\n",
    "    \n",
    "    TODO\n"
   ]
  },
  {
   "cell_type": "code",
   "execution_count": null,
   "metadata": {},
   "outputs": [],
   "source": [
    "from e2ml.experimentation import full_fac\n",
    "\n",
    "# TODO"
   ]
  },
  {
   "cell_type": "markdown",
   "metadata": {},
   "source": [
    "#### Question:\n",
    "1. (b) What is the major disadvantage of the full factorial technique?\n",
    "\n",
    "    TODO\n"
   ]
  },
  {
   "cell_type": "markdown",
   "metadata": {},
   "source": [
    "### **2. Halton Sequence** <a class=\"anchor\" id=\"haltonsequence\"></a>\n",
    "\n",
    "\n",
    "Now, we will implement the Halton sequence as a **space filling** technique for experimental design. \n",
    "We will use this implementation and compare it to Lating hypercube and uniform sampling as two other space filling DOE techniques.\n",
    "\n",
    "A Halton sequence is a low-discrepancy sequence with the property that for all values of $N$, its subsequence $\\mathbf{x}_1, ..., \\mathbf{x}_N$ has a low **discrepancy**. Roughly said, a low discrepancy is a kind of criterion to express the fact that a sequence fills a segment, leaving no gaps. Low-discrepancy sequences are also called quasirandom sequences, due to their common use as a replacement of uniformly distributed random numbers. The *quasi* modifier is used to denote more clearly that the values of a low-discrepancy sequence are neither random nor pseudorandom. Still, such sequences share some properties of random variables.\n",
    "\n",
    "Quasirandom numbers have an advantage over pure random numbers in that they cover the domain of interest quickly and evenly. They have an advantage over purely deterministic methods because they only give high accuracy when the number of conditions is preset. In contrast, using quasirandom sequences improves the accuracy as more conditions are added, with full reuse of the existing points. On the other hand, quasirandom point sets can have a significantly lower discrepancy for a given number of points than purely random sequences.\n",
    "\n",
    "Halton sequences are constructed from one-dimensional van der Corput sequences. A van der Corput sequence is constructed by reversing the base-$n$ representation of the sequence of natural numbers, i.e., $1, 2, 3, \\dots$.\n",
    "\n",
    "For a given base $b = 2, 3, \\dots$, the $b$-adic expansion of the positive integer $n \\geq 1$ is expressed as\n",
    "\n",
    "\\begin{equation*}\n",
    "    n = \\sum_{j=1}^{T} a_j b^{j-1},\n",
    "\\end{equation*}\n",
    "\n",
    "where $0 \\leq a_j < b$ are the integer coefficients of the expansion. Accordingly, the $n$-th number in the van der Corput sequence is defined through\n",
    "\n",
    "\\begin{equation*}\n",
    "    \\phi_b(n) = \\sum_{j=1}^{T} \\frac{a_j}{b^{j}}.\n",
    "\\end{equation*}\n",
    "\n",
    "#### Question:\n",
    "2. (a) Which numbers are represented through $\\phi_2(7)$ and $\\phi_3(5)$? Use the above equations to answer this question.\n",
    "   \n",
    "   The $b=2$-adic expansion of $n=7$ is given through\n",
    "   \\begin{equation*}\n",
    "       7 = 1 \\cdot 2^0 + 1 \\cdot 2^1  + 1 \\cdot 2^2,\n",
    "   \\end{equation*}\n",
    "   such that $a_1 = a_2 = a_3 = 1$. Accordingly, we obtain\n",
    "   \\begin{equation*}\n",
    "       \\phi_2(7) = \\frac{1}{2^1} + \\frac{1}{2^2} + \\frac{1}{2^3} = \\frac{1}{2} + \\frac{1}{4} + \\frac{1}{8} = \\frac{7}{8} = 0.875.\n",
    "   \\end{equation*}\n",
    "   \n",
    "   The $b=3$-adic expansion of $n=5$ is given through: \n",
    "   \\begin{equation*}\n",
    "       5 = 2 \\cdot 3^0 + 1 \\cdot 3^1,\n",
    "   \\end{equation*}\n",
    "   such that $a_1 = 2, a_2 = 1$. Accordingly, we obtain:\n",
    "   \\begin{equation*}\n",
    "       \\phi_3(5) = \\frac{2}{3^1} + \\frac{1}{3^2} = \\frac{6}{9} + \\frac{1}{9} = \\frac{7}{9} \\approx 0.778.\n",
    "   \\end{equation*}\n",
    "   \n",
    "   \n",
    "With this knowledge, we implement the function [`van_der_corput_sequence`](../e2ml/experimentation/_halton.py) in the [`e2ml.experimentation`](../e2ml/experimentation) subpackage.\n",
    "Once, the implementation has been completed, we check its validity for $b=10$ and $n_\\mathrm{max}=20$."
   ]
  },
  {
   "cell_type": "code",
   "execution_count": null,
   "metadata": {},
   "outputs": [],
   "source": [
    "from e2ml.experimentation import van_der_corput_sequence\n",
    "exp_sequence = np.array([\n",
    "    0.1, 0.2, 0.3, 0.4, 0.5, 0.6, 0.7, 0.8, 0.9, 0.01, 0.11, 0.21, 0.31, 0.41, 0.51, 0.61, 0.71, 0.81, 0.91, 0.02\n",
    "])\n",
    "np.testing.assert_array_almost_equal(van_der_corput_sequence(20, 10), exp_sequence)"
   ]
  },
  {
   "cell_type": "markdown",
   "metadata": {},
   "source": [
    "Multi-dimensional Halton sequences are constructed by van der Corput sequences that use so-called [coprime numbers](https://en.wikipedia.org/wiki/Coprime_integers) as its bases. For this purpose, we implement the function [`primes_from_2_to`](../e2ml/experimentation/_halton.py) in the [`e2ml.experimentation`](../e2ml/experimentation) subpackage. This function generates prime numbers from $2$ to $n_\\mathrm{max}$. We check the function's validity for the prime numbers until $50$."
   ]
  },
  {
   "cell_type": "code",
   "execution_count": null,
   "metadata": {},
   "outputs": [],
   "source": [
    "from e2ml.experimentation import primes_from_2_to\n",
    "exp_prime_numbers = np.array([2, 3, 5, 7, 11, 13, 17, 19, 23, 29, 31, 37, 41, 43, 47])\n",
    "np.testing.assert_array_equal(primes_from_2_to(50), exp_prime_numbers)"
   ]
  },
  {
   "cell_type": "markdown",
   "metadata": {},
   "source": [
    "Given the van der Corput sequence and primer numbers generator, we can now implement a multi-dimensional Halton sequence by using for each dimension one van der Corput sequence with a unique prime number as basis, i.e., each dimension must use a different prime number.\n",
    "We implement the function [`halton_unit`](../e2ml/experimentation/_halton.py) in the [`e2ml.experimentation`](../e2ml/experimentation) subpackage. It generates conditions $\\mathbf{x} \\in [0, 1]^D$."
   ]
  },
  {
   "cell_type": "code",
   "execution_count": null,
   "metadata": {},
   "outputs": [],
   "source": [
    "from e2ml.experimentation import halton_unit\n",
    "# Generate 200 two-dimensional conditions as `X` with the Halton sequence.\n",
    "# TODO\n",
    "\n",
    "# Plot generated conditions.\n",
    "# TODO"
   ]
  },
  {
   "cell_type": "markdown",
   "metadata": {},
   "source": [
    "In many experiments, we want to generate conditions whose levels lie in specific intervals for each dimension.\n",
    "\n",
    "#### Question:\n",
    "2. (b) How to scale the values $x_1, \\dots, x_N \\in [0, 1]$ such that all of them lie in the interval $[a, b]$ with $a,b \\in \\mathbb{R}$.\n",
    "\n",
    "   TODO\n",
    "   \n",
    "We extend the function [`halton_unit`](../e2ml/experimentation/_halton.py) by allowing to define boundaries for each dimension's interval through scaling. Therefore, we implement the function [`halton`](../e2ml/experimentation/_halton.py) in the [`e2ml.experimentation`](../e2ml/experimentation) subpackage."
   ]
  },
  {
   "cell_type": "code",
   "execution_count": null,
   "metadata": {},
   "outputs": [],
   "source": [
    "from e2ml.experimentation import halton\n",
    "\n",
    "# Generate 200 two-dimensional conditions with the Halton sequence\n",
    "# in the hypercube [-2, 2] x [1, 5].\n",
    "# TODO\n",
    "\n",
    "# Plot generated conditions.\n",
    "# TODO"
   ]
  },
  {
   "cell_type": "markdown",
   "metadata": {},
   "source": [
    "### **3. Latin Hypercube** <a class=\"anchor\" id=\"latin-hypercube\"></a>\n",
    "\n",
    "Now, we will implement the Latin hypercube technique for experimental design.\n",
    "We implement the function [`lat_hyp_cube_unit`](../e2ml/experimentation/_latin_hypercube.py) in the [`e2ml.experimentation`](../e2ml/experimentation) subpackage. It generates conditions $\\mathbf{x} \\in [0, 1]^D$."
   ]
  },
  {
   "cell_type": "code",
   "execution_count": null,
   "metadata": {},
   "outputs": [],
   "source": [
    "from e2ml.experimentation import lat_hyp_cube_unit\n",
    "\n",
    "# Generate 200 two-dimensional conditions `X` with the Latin hypercube.\n",
    "# TODO\n",
    "\n",
    "# Plot generated conditions.\n",
    "# TODO"
   ]
  },
  {
   "cell_type": "markdown",
   "metadata": {},
   "source": [
    "Similar to Halton, we extend the function [`lat_hyp_cube_unit`](../e2ml/experimentation/_latin_hypercube.py) by allowing to define boundaries for each dimension's interval through scaling. Therefore, we implement the function [`lat_hyp_cube`](../e2ml/experimentation/_latin_hypercube.py) in the [`e2ml.experimentation`](../e2ml/experimentation) subpackage."
   ]
  },
  {
   "cell_type": "code",
   "execution_count": null,
   "metadata": {},
   "outputs": [],
   "source": [
    "from e2ml.experimentation import lat_hyp_cube\n",
    "\n",
    "# Generate 200 two-dimensional conditions `X` with the Latin hypercube\n",
    "# in the hypercube [-2, 2] x [1, 5].\n",
    "# TODO \n",
    "\n",
    "# Plot generated conditions.\n",
    "# TODO"
   ]
  },
  {
   "cell_type": "markdown",
   "metadata": {},
   "source": [
    "### **4. Comparison of Space Filling Techniques** <a class=\"anchor\" id=\"spacefilling-techniques\"></a>\n"
   ]
  },
  {
   "cell_type": "markdown",
   "metadata": {},
   "source": [
    "In this section, we compare the Halton sequence, Latin hypercube, and uniform sampling. First, we compare them just visually. Therefore, we plot 200 conditions generated in the two-dimensional unit cube by the respective technique."
   ]
  },
  {
   "cell_type": "code",
   "execution_count": null,
   "metadata": {},
   "outputs": [],
   "source": [
    "# Visual comparison of Halton sequence, Latin hypercube, and uniform sampling.\n",
    "# TODO"
   ]
  },
  {
   "cell_type": "markdown",
   "metadata": {},
   "source": [
    "For a quantitative comparison, we want to approximate the integral of a cosine-shaped function in the interval $[-\\pi, +\\pi]$:\n",
    "\n",
    "\\begin{align*}\n",
    "    f(x) &= \\cos(x) + 1, \\\\\n",
    "    F(x) &= \\sin(x) + x + C.\n",
    "\\end{align*}\n",
    "\n",
    "Accordingly, the definite integral in the interval $[-\\pi, +\\pi]$ is given through:\n",
    "\n",
    "TODO\n",
    "\n",
    "#### Question:\n",
    "4. (a) Imagine, we can only generate conditions of the form $(x_1, x_2)^\\mathrm{T}$ with $x_1 \\in [-\\pi, +\\pi], x_2 \\in [0, 2]$ and can only ask for the information whether $x_2 \\in [0, f(x_1)]$ or $x_2 \\in (f(x_1), 2]$ is true. How can we approximate the above definite integral through sampling and making use of this information?\n",
    "\n",
    "   TODO\n",
    "   \n",
    "In the following, we compare the error of uniform sampling, Halton sequence, and Latin hypercube to approximate the above definite integral for different numbers of conditions."
   ]
  },
  {
   "cell_type": "code",
   "execution_count": null,
   "metadata": {},
   "outputs": [],
   "source": [
    "def compute_approximation_error(X):\n",
    "    \"\"\"\n",
    "    Computes mean squared error for the definite integral of\n",
    "    function f(x) = cos(x) + 1 in the interval [-pi, pi].\n",
    "    \n",
    "    Parameters\n",
    "    ----------\n",
    "    X : numpy.ndarray of shape (n_conditions, 2)\n",
    "        Conditions with `X[:, 0]` in [-pi, pi] and `X[:, 1]` in [0, 2].\n",
    "        \n",
    "    Returns\n",
    "    -------\n",
    "    error : float\n",
    "        Mean squared error between approximated and true value of\n",
    "        the definite integral.\n",
    "    \"\"\"\n",
    "    # TODO\n",
    "\n",
    "# Numbers of conditions to be tested.\n",
    "n_conditions_list = np.linspace(10, 200, 10, dtype=int)\n",
    "\n",
    "# Compute approximation errors for Halton sequence.\n",
    "# TODO\n",
    "\n",
    "# Compute approximation errors for uniform sampling.\n",
    "# TODO\n",
    "\n",
    "# Compute approximation errors for Latin Hypercube.\n",
    "# TODO\n",
    "\n",
    "# Plot computed approximation errors along numbers of generated conditions.\n",
    "# TODO"
   ]
  }
 ],
 "metadata": {
  "kernelspec": {
   "display_name": "Python 3 (ipykernel)",
   "language": "python",
   "name": "python3"
  },
  "language_info": {
   "codemirror_mode": {
    "name": "ipython",
    "version": 3
   },
   "file_extension": ".py",
   "mimetype": "text/x-python",
   "name": "python",
   "nbconvert_exporter": "python",
   "pygments_lexer": "ipython3",
   "version": "3.8.10"
  }
 },
 "nbformat": 4,
 "nbformat_minor": 2
}
