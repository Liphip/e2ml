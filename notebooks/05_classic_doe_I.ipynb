{
 "cells": [
  {
   "cell_type": "markdown",
   "metadata": {},
   "source": [
    "# Classic Design of Experiments I"
   ]
  },
  {
   "cell_type": "markdown",
   "metadata": {},
   "source": [
    "In this notebook, we will learn about the basics of the classic design of experiments.\n",
    "\n",
    "We start with an empirical analysis of **Hotelling's experiment** and end with a comparison of the **OFAT** and an **own DoE method**.\n",
    "\n",
    "### **Table of Contents**\n",
    "1. [Hottelling's Experiment](#hotelling-experiment)\n",
    "2. [One-factor-at-a-time Method](#one-factor-at-time-method)\n",
    "3. [Own Idea of a DoE Method](#own-idea-of-a-doe-method)"
   ]
  },
  {
   "cell_type": "code",
   "execution_count": null,
   "metadata": {
    "ExecuteTime": {
     "end_time": "2023-05-18T20:00:59.331249811Z",
     "start_time": "2023-05-18T20:00:59.280503408Z"
    }
   },
   "outputs": [],
   "source": [
    "%load_ext autoreload\n",
    "%autoreload 2\n",
    "\n",
    "import numpy as np\n",
    "import matplotlib.pyplot as plt\n",
    "\n",
    "from e2ml.experimentation import (\n",
    "    get_hotellings_experiment_measurements,\n",
    "    get_hotellings_experiment_errors,\n",
    "    black_box_data_generation,\n",
    ")"
   ]
  },
  {
   "cell_type": "markdown",
   "metadata": {},
   "source": [
    "### **1. Hotelling's Experiment** <a class=\"anchor\" id=\"hotelling-experiment\"></a>\n",
    "This section empirically studies Hotelling's experiment extended to 16 objects. In the first step, we create the corresponding design/factor matrices for the OFAT and combinatorial method."
   ]
  },
  {
   "cell_type": "code",
   "execution_count": null,
   "metadata": {
    "ExecuteTime": {
     "end_time": "2023-05-18T20:01:10.162982308Z",
     "start_time": "2023-05-18T20:01:10.109583847Z"
    }
   },
   "outputs": [],
   "source": [
    "# Create Hadamard `X_hadamard` and identity matrix `X_identity`.\n",
    "# BEGIN SOLUTION\n",
    "from scipy.linalg import hadamard\n",
    "X_hadamard = hadamard(16)\n",
    "X_identity = np.eye(16)\n",
    "# END SOLUTION"
   ]
  },
  {
   "cell_type": "markdown",
   "metadata": {},
   "source": [
    "Next, we implement a function to estimate the object weights from the experimental results obtained after executing the experimental trials according to a given design matrix."
   ]
  },
  {
   "cell_type": "code",
   "execution_count": null,
   "metadata": {
    "ExecuteTime": {
     "end_time": "2023-05-18T20:01:11.041348594Z",
     "start_time": "2023-05-18T20:01:11.001308694Z"
    }
   },
   "outputs": [],
   "source": [
    "def estimate_object_weights(X, y):\n",
    "    \"\"\"\n",
    "    Gets a design matrix of object configurations and corresponding measurements as inputs\n",
    "    to estimate the object weights.\n",
    "\n",
    "    Parameters\n",
    "    ----------\n",
    "    X : numpy.ndarray of shape (16, 16)\n",
    "        Design matrix of object configurations.\n",
    "    y : numpy.ndarray of shape (16,)\n",
    "        Measurements.\n",
    "\n",
    "    Returns\n",
    "    -------\n",
    "    theta_hat : numpy.ndarray of shape (16,)\n",
    "        Estimate object weights.\n",
    "    \"\"\"\n",
    "    # BEGIN SOLUTION\n",
    "    theta_hat = np.linalg.inv(X) @ y\n",
    "    return theta_hat\n",
    "    # END SOLUTION"
   ]
  },
  {
   "cell_type": "markdown",
   "metadata": {},
   "source": [
    "As the final step, we replicate the experiments for the OFAT and combinatorial method to estimate the expected sum of squared differences between true object and estimated object weights according to:\n",
    "\n",
    "BEGIN SOLUTION\n",
    "\n",
    "$$\n",
    "E\\left(||\\boldsymbol{\\theta} - \\boldsymbol{\\hat{\\theta}}||_2^2\\right) \\approx \\frac{1}{K} \\sum_{k=1}^{K} ||\\boldsymbol{\\theta} - \\boldsymbol{\\hat{\\theta}}_k||_2^2,\n",
    "$$\n",
    "where $\\boldsymbol{\\hat{\\theta}}_k, k \\in \\{1, \\dots, K\\}$ denotes the estimated object weights in the $k$-th replication of the experiment.\n",
    "\n",
    "END SOLUTION"
   ]
  },
  {
   "cell_type": "code",
   "execution_count": null,
   "metadata": {
    "ExecuteTime": {
     "end_time": "2023-05-18T20:01:31.448350066Z",
     "start_time": "2023-05-18T20:01:27.814084317Z"
    }
   },
   "outputs": [],
   "source": [
    "# Replicate the experiment 10,000 times for both design matrices\n",
    "# to visualize the error distribution of the estimated weights via a histogram\n",
    "# and compute the empirical mean of the sum of squared differences.\n",
    "# BEGIN SOLUTION\n",
    "n_reps = int(1e4)\n",
    "errors_hadamard = np.zeros(n_reps)\n",
    "errors_identity = np.zeros(n_reps)\n",
    "thetas = []\n",
    "for rep in range(n_reps):\n",
    "    y_hadamard = get_hotellings_experiment_measurements(X_hadamard)\n",
    "    y_identity = get_hotellings_experiment_measurements(X_identity)\n",
    "    theta_hat_hadamard = estimate_object_weights(X_hadamard, y_hadamard)\n",
    "    theta_hat_identity = estimate_object_weights(X_identity, y_identity)\n",
    "    errors_hadamard[rep] = get_hotellings_experiment_errors(theta_hat_hadamard)\n",
    "    errors_identity[rep] = get_hotellings_experiment_errors(theta_hat_identity)\n",
    "    thetas.append(theta_hat_identity)\n",
    "plt.figure(figsize=(8, 6))\n",
    "plt.title(f\"Hadamard: {errors_hadamard.mean().round(2)}, Identity: {errors_identity.mean().round(2)}\")\n",
    "plt.hist(errors_hadamard, alpha=0.5, bins=100, label=\"Hadamard\")\n",
    "plt.hist(errors_identity, alpha=0.5, bins=100, label=\"Identity\")\n",
    "plt.legend()\n",
    "plt.show()\n",
    "# END SOLUTION"
   ]
  },
  {
   "cell_type": "markdown",
   "metadata": {},
   "source": [
    "#### **Question:**\n",
    "1. (a) What are the expected sums of squared differences between estimated and true object weights for the OFAT and combinatorial method in the case of 16 objects?\n",
    "\n",
    "   BEGIN SOLUTION\n",
    "\n",
    "   For the OFAT method, the expected sum of squared differences increases for 16 objects to:\n",
    "\n",
    "   $$\n",
    "   E\\left(||\\boldsymbol{\\theta} - \\boldsymbol{\\hat{\\theta}}||_2^2\\right) = \\sum_{d=1}^{16} V(\\hat{\\theta}_d) = \\sum_{d=1}^{16} 1 = 16.\n",
    "   $$\n",
    "\n",
    "   In contrast, for the combinatorial method with the Hadamard matrix the expected sum of squared difference stays unchanged according to:\n",
    "\n",
    "   $$\n",
    "   E\\left(||\\boldsymbol{\\theta} - \\boldsymbol{\\hat{\\theta}}||_2^2\\right) = \\sum_{d=1}^{16} V(\\hat{\\theta}_d) = \\sum_{d=1}^{16} \\frac{1}{16} = 1.\n",
    "   $$\n",
    "\n",
    "   END SOLUTION\n",
    "   \n",
    "### **2. One-factor-at-a-time Method** <a class=\"anchor\" id=\"one-factor-at-time-method\"></a>\n",
    "Now, we implement the standard OFAT method for multiple factors and levels. Therefore, we consider the factors $x_1, \\dots, x_D$, where each factor has a finite number of levels, i.e., $x_d \\in \\{0, \\dots, L_d-1\\}, L_d \\in \\mathbb{N}_{>0}, d \\in \\{1, \\dots, D\\}$, where $x_1 = \\dots = x_D = 0$ is defined as standard condition without loss of generality.\n",
    "\n",
    "2. (a) How many conditions, i.e., the number of rows in the design matrix, will be generated by a standard OFAT method at maximum?\n",
    "\n",
    "   BEGIN SOLUTION\n",
    "\n",
    "   There are $L_d$ levels for each factor $x_d$. Iterating over each factor independently according to respective number of levels would correspond to the sum of all number of levels. However, this sum counts the standard condition $D$ instead of one time. Accordingly, we need to subtract $D-1$ from the sum, which results in\n",
    "   \n",
    "   $$\\sum_{d=1}^{D} (L_d) - (D-1)$$\n",
    "\n",
    "   as maximum number of conditions.\n",
    "   \n",
    "   END SOLUTION\n",
    "   \n",
    "We need to implement the corresponding function [`one_factor_at_a_time`](../e2ml/experimentation/_one_factor_at_a_time.py) in the [`e2ml.experimentation`](../e2ml/experimentation) subpackage.\n",
    "Once, the implementation has been completed, we check our implementation's validity. "
   ]
  },
  {
   "cell_type": "code",
   "execution_count": null,
   "metadata": {
    "ExecuteTime": {
     "end_time": "2023-05-18T13:59:40.725345268Z",
     "start_time": "2023-05-18T13:59:40.681267969Z"
    }
   },
   "outputs": [],
   "source": [
    "from e2ml.experimentation import one_factor_at_a_time\n",
    "\n",
    "levels = [2, 3, 4]\n",
    "\n",
    "# Obtain the design matrix `X` for the given levels.\n",
    "X = one_factor_at_a_time(levels=levels) # <-- SOLUTION\n",
    "\n",
    "assert X.shape[0] == 7, \"The number of conditions is wrong.\"\n",
    "assert X.shape[1] == 3, \"The number of factors is wrong.\"\n",
    "assert ~(((X > 0).sum(axis=-1) > 1).any()), \"There is one row with more than one change factor.\"\n",
    "for l_idx, l in enumerate(levels):\n",
    "    assert np.array_equal(np.unique(X[:, l_idx]), np.arange(l)), f\"No all levels were tested of factor {l_idx}.\""
   ]
  },
  {
   "cell_type": "markdown",
   "metadata": {},
   "source": [
    "Once we have implemented and tested our OFAT function, we apply it to a black-box experiment via the function `black_box_data_generation`. In total, there are\n",
    "$D=4$ factors with $L_1 = 20, L_2 = 4, L_3 = 20, L_4 = 5$. For these factors, we generate a design matrix $\\mathbf{X}$ according to a full OFAT method and obtain the corresponding measurements. The goal is to find a condition maximizing the response of the experiment."
   ]
  },
  {
   "cell_type": "code",
   "execution_count": null,
   "metadata": {
    "ExecuteTime": {
     "end_time": "2023-05-18T13:17:21.067616957Z",
     "start_time": "2023-05-18T13:17:21.025042811Z"
    }
   },
   "outputs": [],
   "source": [
    "# Generate levels according to the black-box experiment.\n",
    "levels = [20, 4, 20, 5] # <-- SOLUTION\n",
    "\n",
    "# Obtain the design matrix `X` for the given levels.\n",
    "X = one_factor_at_a_time(levels=levels) # <-- SOLUTION\n",
    "\n",
    "# Perform experimental trials for the given matrix `X` and save the results `res`.\n",
    "res = black_box_data_generation(X) # <-- SOLUTION\n",
    "\n",
    "# Plot the obtained results as a histogram.\n",
    "# BEGIN SOLUTION\n",
    "plt.figure(figsize=(8, 6))\n",
    "plt.title(f\"OFAT Black-box Experiment Results\")\n",
    "plt.hist(res, alpha=0.5)\n",
    "plt.show()\n",
    "# END SOLUTION\n",
    "\n",
    "# Print the best condition and its maximum score.\n",
    "# BEGIN SOLUTION\n",
    "max_idx = res.argmax()\n",
    "print(f\"Best condition: {X[max_idx]}\")\n",
    "print(f\"Best score: {res[max_idx]}\")\n",
    "# END SOLUTION"
   ]
  },
  {
   "cell_type": "markdown",
   "metadata": {},
   "source": [
    "### **3. Own Idea of a DoE Method** <a class=\"anchor\" id=\"own-idea-of-a-doe-method\"></a>\n",
    "A substantial disadvantage of the OFAT method is that it ignores any interactions between varying levels of factors. Therefore, we aim to implement an own DoE method `own_doe_method`, which advances the OFAT method. The DOE method should allow restricting the number of conditions to a user-defined value. Implement and compare your method with the results of OFAT, when using the same number of experimental trials."
   ]
  },
  {
   "cell_type": "code",
   "execution_count": null,
   "metadata": {
    "ExecuteTime": {
     "end_time": "2023-05-18T11:34:40.692768970Z",
     "start_time": "2023-05-18T11:34:40.468438647Z"
    }
   },
   "outputs": [],
   "source": [
    "# Implement `own_doe_method` taking `levels` as input.\n",
    "# BEGIN SOLUTION\n",
    "from sklearn.utils import column_or_1d, check_scalar, check_random_state\n",
    "def own_doe_method(levels, n_conditions, random_state=42):\n",
    "    \"\"\"\n",
    "    Implements a random generation of conditions for given factor-wise levels.\n",
    "\n",
    "    Parameters\n",
    "    ----------\n",
    "    levels : array-like of shape (n_factors,)\n",
    "        Integer array indicating the number of levels of each input design factor (variable).\n",
    "    n_conditions : int\n",
    "        Number of conditions to be generated.\n",
    "    random_state : int\n",
    "        Ensures reproducibility.\n",
    "\n",
    "    Returns\n",
    "    -------\n",
    "    X : np.ndarray of shape (n_combs, n_factors)\n",
    "        Design matrix with coded levels 0 to k-1 for a k-level factor.\n",
    "    \"\"\"\n",
    "    levels = column_or_1d(levels, dtype=int)\n",
    "    check_scalar(levels.min(), min_val=1, name=\"minimum level per factor\", target_type=np.int64)\n",
    "    X = []\n",
    "    random_state = check_random_state(random_state)\n",
    "    for i in range(n_conditions):\n",
    "        is_old = True\n",
    "        while is_old:\n",
    "            candidate = [random_state.choice(np.arange(l)) for l in levels]\n",
    "            if is_old not in X:\n",
    "                is_old = False\n",
    "        X.append(candidate)\n",
    "    return np.array(X).astype(int)\n",
    "# END SOLUTION\n",
    "\n",
    "# Obtain the design matrix `X` for the given levels.\n",
    "X = own_doe_method(levels=levels, n_conditions=46) # <-- SOLUTION\n",
    "\n",
    "# Perform experimental trials for the given matrix `X` and save the results `res`.\n",
    "res = black_box_data_generation(X) # <-- SOLUTION\n",
    "\n",
    "# Plot the obtained results as a histogram.\n",
    "# BEGIN SOLUTION\n",
    "plt.figure(figsize=(8, 6))\n",
    "plt.title(f\"Own DOE Method Black-box Experiment Results\")\n",
    "plt.hist(res, alpha=0.5)\n",
    "plt.show()\n",
    "# END SOLUTION\n",
    "\n",
    "# Print the best condition and its maximum score.\n",
    "# BEGIN SOLUTION\n",
    "max_idx = res.argmax()\n",
    "print(f\"Best condition: {X[max_idx]}\")\n",
    "print(f\"Best score: {res[max_idx]}\")\n",
    "# END SOLUTION"
   ]
  }
 ],
 "metadata": {
  "kernelspec": {
   "display_name": "Python 3 (ipykernel)",
   "language": "python",
   "name": "python3"
  },
  "language_info": {
   "codemirror_mode": {
    "name": "ipython",
    "version": 3
   },
   "file_extension": ".py",
   "mimetype": "text/x-python",
   "name": "python",
   "nbconvert_exporter": "python",
   "pygments_lexer": "ipython3",
   "version": "3.9.6"
  }
 },
 "nbformat": 4,
 "nbformat_minor": 4
}
